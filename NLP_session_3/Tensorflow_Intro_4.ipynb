{
 "cells": [
  {
   "cell_type": "markdown",
   "metadata": {},
   "source": [
    "We study how to do LSTM in tensorflow next\n",
    "\n",
    "# LSTM\n",
    "\n",
    "When you have the time, go over [this excellent post](https://r2rt.com/recurrent-neural-networks-in-tensorflow-ii.html).\n",
    "\n",
    "As before the goal is to create a simple one for deducing the next digit in the sequence 0,0,1,0,0,1,0,0,1,0,0,1,..."
   ]
  },
  {
   "cell_type": "code",
   "execution_count": 1,
   "metadata": {
    "collapsed": true
   },
   "outputs": [],
   "source": [
    "import tensorflow as tf\n",
    "import numpy as np"
   ]
  },
  {
   "cell_type": "markdown",
   "metadata": {},
   "source": [
    "The difference now, is that we are going to use LSTM and dynamic RNN\n",
    "\n",
    "## Dynamic ones and most basic LSTM\n",
    "\n",
    "As dar as I understand this method (dynamic) is faster, (don't really know why though). Another advantage is that the dynamic 'unrolling' allows to input tensors instead of list. \n",
    "\n",
    "If takes two kinds of tensors, depending on a hyperparameter called time_major == False (default) in this case the input should be of the form\n",
    "\n",
    "`[batch_size, max_time, cell.output_size]`\n",
    "\n",
    "if  time_major == True, then it should be of the form \n",
    "\n",
    "`[max_time, batch_size, cell.output_size]`\n",
    "\n",
    "Where here `max_time` represents the 'unroll' size. \n",
    "\n",
    "As in the previous case we have the data given by "
   ]
  },
  {
   "cell_type": "code",
   "execution_count": 2,
   "metadata": {
    "collapsed": true
   },
   "outputs": [],
   "source": [
    "X_data = [[[0],[0],[1],[0]],[[0],[1],[0],[0]],[[1],[0],[0],[1]]]\n",
    "y_data= [[[-1],[1],[-1],[-1]],[[1],[-1],[-1],[1]],[[-1],[-1],[1],[-1]]]\n",
    "X_data=np.array(X_data)\n",
    "y_data=np.array(y_data)"
   ]
  },
  {
   "cell_type": "markdown",
   "metadata": {},
   "source": [
    "as we are going with the default we create some placeholders "
   ]
  },
  {
   "cell_type": "code",
   "execution_count": 3,
   "metadata": {},
   "outputs": [],
   "source": [
    "X = tf.placeholder(shape=(3,4,1),dtype=tf.float32)\n",
    "y = tf.placeholder(shape=(3,4,1),dtype=tf.float32)"
   ]
  },
  {
   "cell_type": "markdown",
   "metadata": {},
   "source": [
    "We use  tf.contrib.rnn.LSTMCell(1) as our LSTM cell, this follows the architecture found [here](http://colah.github.io/posts/2015-08-Understanding-LSTMs/).\n",
    "\n",
    "So let's crete a simple cell and let's have just one unit so we don't have to process the output further (this is also the state size)."
   ]
  },
  {
   "cell_type": "code",
   "execution_count": 4,
   "metadata": {
    "collapsed": true
   },
   "outputs": [],
   "source": [
    "cell = tf.contrib.rnn.LSTMCell(1)"
   ]
  },
  {
   "cell_type": "markdown",
   "metadata": {},
   "source": [
    "and we create the rnn layer now"
   ]
  },
  {
   "cell_type": "code",
   "execution_count": 5,
   "metadata": {
    "collapsed": true
   },
   "outputs": [],
   "source": [
    "output,_= tf.nn.dynamic_rnn(cell,X,dtype=tf.float32)"
   ]
  },
  {
   "cell_type": "markdown",
   "metadata": {},
   "source": [
    "We now should train this, we first compute the loss"
   ]
  },
  {
   "cell_type": "code",
   "execution_count": 6,
   "metadata": {
    "collapsed": true
   },
   "outputs": [],
   "source": [
    "loss = tf.reduce_sum(tf.square(output-y))"
   ]
  },
  {
   "cell_type": "markdown",
   "metadata": {},
   "source": [
    "and use our favorite gradient descent optimizer"
   ]
  },
  {
   "cell_type": "code",
   "execution_count": 7,
   "metadata": {
    "collapsed": true
   },
   "outputs": [],
   "source": [
    "optimizer = tf.train.AdamOptimizer().minimize(loss)"
   ]
  },
  {
   "cell_type": "markdown",
   "metadata": {},
   "source": [
    "we are ready to run a session"
   ]
  },
  {
   "cell_type": "code",
   "execution_count": 8,
   "metadata": {
    "collapsed": true
   },
   "outputs": [],
   "source": [
    "sess=tf.Session()\n",
    "sess.run(tf.global_variables_initializer())"
   ]
  },
  {
   "cell_type": "code",
   "execution_count": 9,
   "metadata": {},
   "outputs": [],
   "source": [
    "losses=[]\n",
    "for i in range(10000):\n",
    "        loss_,_=sess.run([loss,optimizer],feed_dict={X:X_data,y:y_data})\n",
    "        losses+=[loss_]"
   ]
  },
  {
   "cell_type": "code",
   "execution_count": 10,
   "metadata": {},
   "outputs": [
    {
     "data": {
      "image/png": "[encoded data removed]",
      "text/plain": [
       "<matplotlib.figure.Figure at 0x7f27e7754278>"
      ]
     },
     "metadata": {},
     "output_type": "display_data"
    },
    {
     "data": {
      "image/png": "[encoded data removed]",
      "text/plain": [
       "<matplotlib.figure.Figure at 0x7f27e521de10>"
      ]
     },
     "metadata": {},
     "output_type": "display_data"
    }
   ],
   "source": [
    "import matplotlib.pyplot as plt\n",
    "plt.plot(losses)\n",
    "plt.show()\n",
    "plt.plot(losses[5000:])\n",
    "plt.show()"
   ]
  },
  {
   "cell_type": "code",
   "execution_count": 11,
   "metadata": {
    "collapsed": true
   },
   "outputs": [],
   "source": [
    "A=sess.run(output,feed_dict={X:X_data,y:y_data})"
   ]
  },
  {
   "cell_type": "markdown",
   "metadata": {},
   "source": [
    "Note that the result has a different shape"
   ]
  },
  {
   "cell_type": "code",
   "execution_count": 12,
   "metadata": {},
   "outputs": [
    {
     "data": {
      "text/plain": [
       "(3, 4, 1)"
      ]
     },
     "execution_count": 12,
     "metadata": {},
     "output_type": "execute_result"
    }
   ],
   "source": [
    "A.shape "
   ]
  },
  {
   "cell_type": "code",
   "execution_count": 13,
   "metadata": {},
   "outputs": [
    {
     "data": {
      "text/plain": [
       "array([[[ 0.61159492],\n",
       "        [ 0.52227437],\n",
       "        [-0.75463444],\n",
       "        [-0.49282873]],\n",
       "\n",
       "       [[ 0.61159492],\n",
       "        [-0.75014079],\n",
       "        [-0.47098044],\n",
       "        [ 0.55077934]],\n",
       "\n",
       "       [[-0.7595942 ],\n",
       "        [-0.51557499],\n",
       "        [ 0.49293062],\n",
       "        [-0.75555474]]], dtype=float32)"
      ]
     },
     "execution_count": 13,
     "metadata": {},
     "output_type": "execute_result"
    }
   ],
   "source": [
    "# [[0],[0],[1],[0]] should give [[-1],[1],[-1],[-1]]\n",
    "# [[0],[1],[0],[0]] should give [[1],[-1],[-1],[1]]\n",
    "# [[1],[0],[0],[1]] should give [[-1],[-1],[1],[-1]]\n",
    "A"
   ]
  },
  {
   "cell_type": "markdown",
   "metadata": {},
   "source": [
    "** Exercises:** \n",
    "- Make this better.\n",
    "- Do the same with GRU, learn about GRU's."
   ]
  },
  {
   "cell_type": "code",
   "execution_count": null,
   "metadata": {
    "collapsed": true
   },
   "outputs": [],
   "source": []
  }
 ],
 "metadata": {
  "anaconda-cloud": {},
  "kernelspec": {
   "display_name": "Python [conda root]",
   "language": "python",
   "name": "conda-root-py"
  },
  "language_info": {
   "codemirror_mode": {
    "name": "ipython",
    "version": 3
   },
   "file_extension": ".py",
   "mimetype": "text/x-python",
   "name": "python",
   "nbconvert_exporter": "python",
   "pygments_lexer": "ipython3",
   "version": "3.5.2"
  }
 },
 "nbformat": 4,
 "nbformat_minor": 2
}
