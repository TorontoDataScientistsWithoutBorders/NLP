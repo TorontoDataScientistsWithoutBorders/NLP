{
 "cells": [
  {
   "cell_type": "markdown",
   "metadata": {},
   "source": [
    "We are now ready for creating more complex models. We next summarize three architectures that we will need and how to use them in Tensorflow\n",
    "\n",
    "# RNN\n",
    "\n",
    "When you have the time, go over [this excellent post](https://r2rt.com/recurrent-neural-networks-in-tensorflow-i.html).\n"
   ]
  },
  {
   "cell_type": "code",
   "execution_count": 1,
   "metadata": {
    "collapsed": true
   },
   "outputs": [],
   "source": [
    "import tensorflow as tf\n",
    "import numpy as np"
   ]
  },
  {
   "cell_type": "markdown",
   "metadata": {},
   "source": [
    "In Tensorflow RNN are created in two steps:\n",
    "\n",
    "1. Decide on the type of cell the RNN will have (basic, LSTM, GRU, etc.)\n",
    "\n",
    "2. Decide how to unroll the RNN: Since there are two possible ways of unrolling:\n",
    "    - Static ones: Which will unroll depending on the batch size.\n",
    "    - Dynamic ones: Which will just take any input.\n",
    "\n",
    "There's a discussion out there about which one is better, but it seems that dynamic ones are faster.\n",
    "\n",
    "## Static ones and most basic RNN\n",
    "\n",
    "The most basic RNN has the form \n",
    "\n",
    "$$ \\text{output = new_state = activation(W * input + U * state + B).} $$\n",
    "\n",
    "in Tensorflow we create this using tf.contrib.rnn.BasicRNNCell.\n",
    "\n",
    "The signature of the basic cell, when creating, is \n",
    "\n",
    "tf.contrib.rnn.BasicRNNCell.\\__init\\__(num_units,input_size=None,activation=tanh)\n",
    "\n",
    "So let's crete a simple cell"
   ]
  },
  {
   "cell_type": "code",
   "execution_count": 2,
   "metadata": {
    "collapsed": true
   },
   "outputs": [],
   "source": [
    "cell = tf.contrib.rnn.BasicRNNCell(1,activation=tf.identity)"
   ]
  },
  {
   "cell_type": "markdown",
   "metadata": {},
   "source": [
    "the cell has also a call method that we can use to test on data"
   ]
  },
  {
   "cell_type": "code",
   "execution_count": 3,
   "metadata": {},
   "outputs": [],
   "source": [
    "inputs=tf.placeholder(shape=(4,1),dtype=tf.float32)\n",
    "initial_state=tf.constant([[0],[1],[0],[1]],dtype=tf.float32)\n",
    "outputs, states=cell(inputs,state=initial_state)"
   ]
  },
  {
   "cell_type": "markdown",
   "metadata": {},
   "source": [
    "Let's run this in a Session."
   ]
  },
  {
   "cell_type": "code",
   "execution_count": 4,
   "metadata": {},
   "outputs": [
    {
     "data": {
      "text/plain": [
       "[array([[ 0.06178832],\n",
       "        [-1.36129022]], dtype=float32), array([ 0.], dtype=float32)]"
      ]
     },
     "execution_count": 4,
     "metadata": {},
     "output_type": "execute_result"
    }
   ],
   "source": [
    "sess=tf.Session()\n",
    "sess.run(tf.global_variables_initializer())\n",
    "sess.run(tf.global_variables())"
   ]
  },
  {
   "cell_type": "markdown",
   "metadata": {},
   "source": [
    "And compare what happens when we fit different inputs."
   ]
  },
  {
   "cell_type": "code",
   "execution_count": 5,
   "metadata": {},
   "outputs": [
    {
     "data": {
      "text/plain": [
       "array([[ 0.        ],\n",
       "       [-1.36129022],\n",
       "       [ 0.06178832],\n",
       "       [-1.2995019 ]], dtype=float32)"
      ]
     },
     "execution_count": 5,
     "metadata": {},
     "output_type": "execute_result"
    }
   ],
   "source": [
    "sess.run(outputs,feed_dict={inputs:[[0],[0],[1],[1]]})"
   ]
  },
  {
   "cell_type": "code",
   "execution_count": 6,
   "metadata": {
    "collapsed": true
   },
   "outputs": [],
   "source": [
    "sess.close()\n",
    "tf.reset_default_graph()"
   ]
  },
  {
   "cell_type": "markdown",
   "metadata": {},
   "source": [
    "Make sure to compare the results with the weights. That is to make sure that everything is clear in the universe. Also note the independece of the results. \n",
    "\n",
    "\n",
    "### Unrolling it\n",
    "\n",
    "To 'unroll' the RNN in a static fashion, we use \n",
    "\n",
    "tf.contrib.rnn.static_rnn()\n",
    "\n",
    "and, as before, it is good to look at the signature\n",
    "\n",
    "static_rnn(cell,inputs,initial_state=None,dtype=None,sequence_length=None,scope=None)\n",
    "\n",
    "\n",
    "The trickiest one here is input, they have a really particular shape. It should be list (not a tensor) of tensor each of them of the kind that are fed to the cell. What is important here is that the the output state of each element of the list is fed to the next one. \n",
    "\n",
    "Let's consider the sequence 1,0,0,1,0,0,1,0,0,1,0,0,1,0,... Suppose that we want to feed the first four terms to the 'unroll' neural net. In this case there's only one batch."
   ]
  },
  {
   "cell_type": "code",
   "execution_count": 7,
   "metadata": {
    "collapsed": true
   },
   "outputs": [],
   "source": [
    "inputs=[tf.placeholder(shape=(1,1),dtype=tf.float32) for i in range(4)]\n",
    "initial_state=tf.constant([[0]],dtype=tf.float32)\n",
    "cell = tf.contrib.rnn.BasicRNNCell(1,activation=tf.identity)"
   ]
  },
  {
   "cell_type": "markdown",
   "metadata": {},
   "source": [
    "We now 'unroll' it to length 4."
   ]
  },
  {
   "cell_type": "code",
   "execution_count": 8,
   "metadata": {},
   "outputs": [],
   "source": [
    "output,state= tf.contrib.rnn.static_rnn(cell,inputs,dtype=tf.float32,initial_state=initial_state )"
   ]
  },
  {
   "cell_type": "markdown",
   "metadata": {},
   "source": [
    "and we can run the session."
   ]
  },
  {
   "cell_type": "code",
   "execution_count": 9,
   "metadata": {},
   "outputs": [
    {
     "data": {
      "text/plain": [
       "[array([[-1.06113088],\n",
       "        [-0.33077347]], dtype=float32), array([ 0.], dtype=float32)]"
      ]
     },
     "execution_count": 9,
     "metadata": {},
     "output_type": "execute_result"
    }
   ],
   "source": [
    "sess=tf.Session()\n",
    "sess.run(tf.global_variables_initializer())\n",
    "sess.run(tf.global_variables())"
   ]
  },
  {
   "cell_type": "code",
   "execution_count": 10,
   "metadata": {},
   "outputs": [
    {
     "data": {
      "text/plain": [
       "[array([[-1.06113088]], dtype=float32),\n",
       " array([[ 0.35099396]], dtype=float32),\n",
       " array([[-0.11609949]], dtype=float32),\n",
       " array([[-1.0227282]], dtype=float32)]"
      ]
     },
     "execution_count": 10,
     "metadata": {},
     "output_type": "execute_result"
    }
   ],
   "source": [
    "sess.run(output,feed_dict={inputs[0]:[[1]],inputs[1]:[[0]],inputs[2]:[[0]],inputs[3]:[[1]]})"
   ]
  },
  {
   "cell_type": "markdown",
   "metadata": {},
   "source": [
    "Let's just check one "
   ]
  },
  {
   "cell_type": "code",
   "execution_count": 11,
   "metadata": {},
   "outputs": [
    {
     "data": {
      "text/plain": [
       "0.370239441"
      ]
     },
     "execution_count": 11,
     "metadata": {},
     "output_type": "execute_result"
    }
   ],
   "source": [
    "0.44902*0+0.44902*0.82455"
   ]
  },
  {
   "cell_type": "markdown",
   "metadata": {},
   "source": [
    "now that we understand this better let's try to use it to predict something the next term in the sequence above."
   ]
  },
  {
   "cell_type": "code",
   "execution_count": 12,
   "metadata": {
    "collapsed": true
   },
   "outputs": [],
   "source": [
    "sess.close()\n",
    "tf.reset_default_graph()"
   ]
  },
  {
   "cell_type": "markdown",
   "metadata": {},
   "source": [
    "\n",
    "\n",
    "### Preparations\n",
    "\n",
    "Let's first create some toy example before doing optimization so we \n",
    "understand the signatures and architectures in Tensorflow.\n"
   ]
  },
  {
   "cell_type": "code",
   "execution_count": 13,
   "metadata": {},
   "outputs": [],
   "source": [
    "X_data = [[[0],[0],[1],[0]],[[0],[1],[0],[0]],[[1],[0],[0],[1]]]\n",
    "y_data= [[[0],[1],[0],[0]],[[1],[0],[0],[1]],[[0],[0],[1],[0]]]\n",
    "X_data=np.array(X_data)\n",
    "y_data=np.array(y_data)"
   ]
  },
  {
   "cell_type": "markdown",
   "metadata": {},
   "source": [
    "Then we need to find a way to feed this data into the structure needed for the RNN."
   ]
  },
  {
   "cell_type": "markdown",
   "metadata": {},
   "source": [
    "We can do this via the transpose methods, we can either do it inside tensorflow or using numpy."
   ]
  },
  {
   "cell_type": "code",
   "execution_count": 14,
   "metadata": {},
   "outputs": [
    {
     "data": {
      "text/plain": [
       "(3, 4, 1)"
      ]
     },
     "execution_count": 14,
     "metadata": {},
     "output_type": "execute_result"
    }
   ],
   "source": [
    "X_data.shape"
   ]
  },
  {
   "cell_type": "code",
   "execution_count": 15,
   "metadata": {},
   "outputs": [],
   "source": [
    "X_data=X_data.transpose(1,0,2)\n",
    "y_data=y_data.transpose(1,0,2)"
   ]
  },
  {
   "cell_type": "markdown",
   "metadata": {},
   "source": [
    "note that the new shape is (4,3,1) let's create some tensors to hold this"
   ]
  },
  {
   "cell_type": "code",
   "execution_count": 16,
   "metadata": {
    "collapsed": true
   },
   "outputs": [],
   "source": [
    "X = tf.placeholder(shape=(4,3,1),dtype=tf.float32)\n",
    "y = tf.placeholder(shape=(4,3,1),dtype=tf.float32)"
   ]
  },
  {
   "cell_type": "markdown",
   "metadata": {},
   "source": [
    "and create the cell "
   ]
  },
  {
   "cell_type": "code",
   "execution_count": 17,
   "metadata": {
    "collapsed": true
   },
   "outputs": [],
   "source": [
    "cell = tf.contrib.rnn.BasicRNNCell(1)"
   ]
  },
  {
   "cell_type": "markdown",
   "metadata": {},
   "source": [
    "next we create the network, but recall the signature takes a list not a tensor, so we need to use unpack"
   ]
  },
  {
   "cell_type": "code",
   "execution_count": 18,
   "metadata": {},
   "outputs": [],
   "source": [
    "inputs=tf.unstack(X,axis=0)\n",
    "initial_state=tf.constant([[0],[0],[0]],dtype=tf.float32)\n",
    "output,state= tf.contrib.rnn.static_rnn(cell,inputs,dtype=tf.float32,initial_state=initial_state )"
   ]
  },
  {
   "cell_type": "markdown",
   "metadata": {},
   "source": [
    "Next we need to decrease the error between the outputs and the real outputs."
   ]
  },
  {
   "cell_type": "code",
   "execution_count": 19,
   "metadata": {},
   "outputs": [],
   "source": [
    "y_=tf.unstack(y,axis=0)\n",
    "loss=tf.reduce_sum(tf.square(output[0]-y_[0]))\n",
    "loss+=tf.reduce_sum(tf.square(output[1]-y_[1]))\n",
    "loss+=tf.reduce_sum(tf.square(output[2]-y_[2]))\n",
    "loss+=tf.reduce_sum(tf.square(output[3]-y_[3]))"
   ]
  },
  {
   "cell_type": "markdown",
   "metadata": {},
   "source": [
    "We create an optimizer next."
   ]
  },
  {
   "cell_type": "code",
   "execution_count": 20,
   "metadata": {
    "collapsed": true
   },
   "outputs": [],
   "source": [
    "optimizer = tf.train.AdamOptimizer().minimize(loss)"
   ]
  },
  {
   "cell_type": "markdown",
   "metadata": {},
   "source": [
    "and it is time to use the session"
   ]
  },
  {
   "cell_type": "code",
   "execution_count": 21,
   "metadata": {
    "collapsed": true
   },
   "outputs": [],
   "source": [
    "sess=tf.Session()\n",
    "sess.run(tf.global_variables_initializer())"
   ]
  },
  {
   "cell_type": "markdown",
   "metadata": {},
   "source": [
    "and the training steps"
   ]
  },
  {
   "cell_type": "code",
   "execution_count": 22,
   "metadata": {},
   "outputs": [],
   "source": [
    "losses=[]\n",
    "for i in range(300):\n",
    "        loss_,_=sess.run([loss,optimizer],feed_dict={X:X_data,y:y_data})\n",
    "        losses+=[loss_]"
   ]
  },
  {
   "cell_type": "markdown",
   "metadata": {},
   "source": [
    "Let's graph the losses."
   ]
  },
  {
   "cell_type": "code",
   "execution_count": 27,
   "metadata": {},
   "outputs": [
    {
     "data": {
      "image/png": "[encoded data removed]",
      "text/plain": [
       "<matplotlib.figure.Figure at 0x7f7c33895470>"
      ]
     },
     "metadata": {},
     "output_type": "display_data"
    },
    {
     "data": {
      "image/png": "[encoded data removed]",
      "text/plain": [
       "<matplotlib.figure.Figure at 0x7f7c37909e10>"
      ]
     },
     "metadata": {},
     "output_type": "display_data"
    }
   ],
   "source": [
    "import matplotlib.pyplot as plt\n",
    "plt.plot(losses)\n",
    "plt.show()\n",
    "plt.plot(losses[5000:10000])\n",
    "plt.show()"
   ]
  },
  {
   "cell_type": "code",
   "execution_count": 34,
   "metadata": {},
   "outputs": [
    {
     "data": {
      "text/plain": [
       "array([[ 0.46436268],\n",
       "       [ 0.67353755],\n",
       "       [ 0.03886279],\n",
       "       [ 0.48474303]], dtype=float32)"
      ]
     },
     "execution_count": 34,
     "metadata": {},
     "output_type": "execute_result"
    }
   ],
   "source": [
    "#[[0],[0],[1],[0]]\n",
    "np.array(sess.run(output,feed_dict={X:X_data,y:y_data}))[:,0,:]"
   ]
  },
  {
   "cell_type": "code",
   "execution_count": 33,
   "metadata": {},
   "outputs": [
    {
     "data": {
      "text/plain": [
       "array([[ 0.46436268],\n",
       "       [-0.10235016],\n",
       "       [ 0.40830663],\n",
       "       [ 0.6522733 ]], dtype=float32)"
      ]
     },
     "execution_count": 33,
     "metadata": {},
     "output_type": "execute_result"
    }
   ],
   "source": [
    "#[[0],[1],[0],[0]]\n",
    "np.array(sess.run(output,feed_dict={X:X_data,y:y_data}))[:,1,:]"
   ]
  },
  {
   "cell_type": "code",
   "execution_count": 36,
   "metadata": {},
   "outputs": [
    {
     "data": {
      "text/plain": [
       "array([[-0.39443445],\n",
       "       [ 0.2315845 ],\n",
       "       [ 0.57811087],\n",
       "       [-0.02570706]], dtype=float32)"
      ]
     },
     "execution_count": 36,
     "metadata": {},
     "output_type": "execute_result"
    }
   ],
   "source": [
    "#[[1],[0],[0],[1]]\n",
    "np.array(sess.run(output,feed_dict={X:X_data,y:y_data}))[:,2,:]"
   ]
  },
  {
   "cell_type": "markdown",
   "metadata": {},
   "source": [
    "Note, that we are not really predicting enough, can you think why?\n",
    "\n",
    "** Exercise: ** Fix it!"
   ]
  }
 ],
 "metadata": {
  "anaconda-cloud": {},
  "kernelspec": {
   "display_name": "Python [conda root]",
   "language": "python",
   "name": "conda-root-py"
  },
  "language_info": {
   "codemirror_mode": {
    "name": "ipython",
    "version": 3
   },
   "file_extension": ".py",
   "mimetype": "text/x-python",
   "name": "python",
   "nbconvert_exporter": "python",
   "pygments_lexer": "ipython3",
   "version": "3.5.2"
  }
 },
 "nbformat": 4,
 "nbformat_minor": 2
}
