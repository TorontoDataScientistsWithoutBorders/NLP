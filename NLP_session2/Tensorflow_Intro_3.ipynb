{
 "cells": [
  {
   "cell_type": "markdown",
   "metadata": {},
   "source": [
    "We are now ready for creating more complex models. We next summarize three architectures that we will need and how to use them in Tensorflow\n",
    "\n",
    "# RNN\n",
    "\n",
    "When you have the time, go over [this excellent post](https://r2rt.com/recurrent-neural-networks-in-tensorflow-i.html).\n",
    "\n",
    "You can read [here] about them. Let's create a simple one for deducing the next digit in the sequence 0,0,1,0,0,1,0,0,1,0,0,1,..."
   ]
  },
  {
   "cell_type": "code",
   "execution_count": 1,
   "metadata": {
    "collapsed": true
   },
   "outputs": [],
   "source": [
    "import tensorflow as tf\n",
    "import numpy as np"
   ]
  },
  {
   "cell_type": "markdown",
   "metadata": {},
   "source": [
    "In Tensorflow RNN are created in two steps:\n",
    "\n",
    "1. Decide on the type of cell the RNN will have (basic, LSTM, GRU, etc.)\n",
    "\n",
    "2. Decide how to unroll the RNN: Since there are two possible ways of unrolling:\n",
    "    - Static ones: Which will unroll depending on the batch size.\n",
    "    - Dynamic ones: Which will just take any input.\n",
    "\n",
    "There's a discussion out there about which one is better, but it seems that dynamic ones are faster.\n",
    "\n",
    "## Static ones and most basic RNN\n",
    "\n",
    "### Preparations\n",
    "\n",
    "Let's first create our data:"
   ]
  },
  {
   "cell_type": "code",
   "execution_count": 2,
   "metadata": {
    "collapsed": true
   },
   "outputs": [],
   "source": [
    "X_data = [[[0],[0],[1],[0]],[[0],[1],[0],[0]],[[1],[0],[0],[1]]]\n",
    "y_data= [[[0],[1],[0],[0]],[[1],[0],[0],[1]],[[0],[0],[1],[0]]]\n",
    "X_data=np.array(X_data)\n",
    "y_data=np.array(y_data)"
   ]
  },
  {
   "cell_type": "markdown",
   "metadata": {},
   "source": [
    "and some placeholders for it"
   ]
  },
  {
   "cell_type": "code",
   "execution_count": 3,
   "metadata": {
    "collapsed": true
   },
   "outputs": [],
   "source": [
    "X = tf.placeholder(shape=(3,4,1),dtype=tf.float32)\n",
    "y = tf.placeholder(shape=(3,4,1),dtype=tf.float32)\n",
    "\n",
    "#We will talk about the following line in a bit\n",
    "init_state = tf.zeros([4,1])"
   ]
  },
  {
   "cell_type": "markdown",
   "metadata": {},
   "source": [
    "We use  tf.nn.rnn_cell.BasicRNNCell() as our most basic RNN cell, this follows the formula\n",
    "\n",
    "$$ \\text{output = new_state = activation(W * input + U * state + B).} $$\n",
    "\n",
    "The signature of the basic cell, when creating, is\n",
    "\n",
    "tf.contrib.rnn.BasicRNNCell.\\__init\\__(num_units,input_size=None,activation=tanh)\n",
    "\n",
    "So let's crete a simple cell and let's have just one unit so we don't have to process the output further (this is also the state size)."
   ]
  },
  {
   "cell_type": "code",
   "execution_count": 4,
   "metadata": {
    "collapsed": true
   },
   "outputs": [],
   "source": [
    "cell = tf.contrib.rnn.BasicRNNCell(1)"
   ]
  },
  {
   "cell_type": "markdown",
   "metadata": {},
   "source": [
    "and we create the rnn layer now"
   ]
  },
  {
   "cell_type": "code",
   "execution_count": 5,
   "metadata": {},
   "outputs": [],
   "source": [
    "X2=tf.unstack(X,axis=0)\n",
    "output,state= tf.contrib.rnn.static_rnn(cell,X2,dtype=tf.float32,initial_state=init_state )"
   ]
  },
  {
   "cell_type": "markdown",
   "metadata": {},
   "source": [
    "We now should train this, we first compute the loss"
   ]
  },
  {
   "cell_type": "code",
   "execution_count": 6,
   "metadata": {},
   "outputs": [],
   "source": [
    "loss = tf.reduce_sum(tf.square(output[0]-y[0]))+tf.reduce_sum(tf.square(output[1]-y[1]))+tf.reduce_sum(tf.square(output[2]-y[2]))"
   ]
  },
  {
   "cell_type": "markdown",
   "metadata": {},
   "source": [
    "and use our favorite gradient descent optimizer"
   ]
  },
  {
   "cell_type": "code",
   "execution_count": 7,
   "metadata": {
    "collapsed": true
   },
   "outputs": [],
   "source": [
    "optimizer = tf.train.AdamOptimizer().minimize(loss)"
   ]
  },
  {
   "cell_type": "markdown",
   "metadata": {},
   "source": [
    "we are ready to run a session"
   ]
  },
  {
   "cell_type": "code",
   "execution_count": 8,
   "metadata": {
    "collapsed": true
   },
   "outputs": [],
   "source": [
    "sess=tf.Session()\n",
    "sess.run(tf.global_variables_initializer())"
   ]
  },
  {
   "cell_type": "code",
   "execution_count": 9,
   "metadata": {},
   "outputs": [],
   "source": [
    "losses=[]\n",
    "for i in range(30000):\n",
    "        loss_,_=sess.run([loss,optimizer],feed_dict={X:X_data,y:y_data})\n",
    "        losses+=[loss_]"
   ]
  },
  {
   "cell_type": "code",
   "execution_count": 10,
   "metadata": {},
   "outputs": [
    {
     "data": {
      "image/png": "[encoded data removed]",
      "text/plain": [
       "<matplotlib.figure.Figure at 0x7febe5a478d0>"
      ]
     },
     "metadata": {},
     "output_type": "display_data"
    },
    {
     "data": {
      "image/png": "[encoded data removed]",
      "text/plain": [
       "<matplotlib.figure.Figure at 0x7febdc374a90>"
      ]
     },
     "metadata": {},
     "output_type": "display_data"
    }
   ],
   "source": [
    "import matplotlib.pyplot as plt\n",
    "plt.plot(losses)\n",
    "plt.show()\n",
    "plt.plot(losses[5000:10000])\n",
    "plt.show()"
   ]
  },
  {
   "cell_type": "code",
   "execution_count": 11,
   "metadata": {},
   "outputs": [
    {
     "data": {
      "text/plain": [
       "array([[ 0.45854849],\n",
       "       [ 0.45854849],\n",
       "       [-0.39763433],\n",
       "       [ 0.45854849]], dtype=float32)"
      ]
     },
     "execution_count": 11,
     "metadata": {},
     "output_type": "execute_result"
    }
   ],
   "source": [
    "sess.run(output,feed_dict={X:X_data,y:y_data})[0]"
   ]
  },
  {
   "cell_type": "markdown",
   "metadata": {},
   "source": [
    "Note, that we are not really predicting enough, can you think why?\n",
    "\n",
    "** Exercise: ** Fix it!"
   ]
  },
  {
   "cell_type": "code",
   "execution_count": null,
   "metadata": {
    "collapsed": true
   },
   "outputs": [],
   "source": []
  }
 ],
 "metadata": {
  "anaconda-cloud": {},
  "kernelspec": {
   "display_name": "Python [conda root]",
   "language": "python",
   "name": "conda-root-py"
  },
  "language_info": {
   "codemirror_mode": {
    "name": "ipython",
    "version": 3
   },
   "file_extension": ".py",
   "mimetype": "text/x-python",
   "name": "python",
   "nbconvert_exporter": "python",
   "pygments_lexer": "ipython3",
   "version": "3.5.2"
  }
 },
 "nbformat": 4,
 "nbformat_minor": 2
}
