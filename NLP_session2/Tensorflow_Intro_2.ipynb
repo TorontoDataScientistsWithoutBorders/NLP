{
 "cells": [
  {
   "cell_type": "markdown",
   "metadata": {},
   "source": [
    "# A simple example: Best plane to fit a set of points"
   ]
  },
  {
   "cell_type": "markdown",
   "metadata": {},
   "source": [
    "In this example we find a plane that best fit the points"
   ]
  },
  {
   "cell_type": "code",
   "execution_count": 1,
   "metadata": {
    "collapsed": true
   },
   "outputs": [],
   "source": [
    "x_1=[0,0,1]\n",
    "x_2=[1,0,2]\n",
    "x_3=[0,1,2]\n",
    "x_4=[1,1,4]"
   ]
  },
  {
   "cell_type": "markdown",
   "metadata": {},
   "source": [
    "We would use linear regression for this, but we use Tensorflow"
   ]
  },
  {
   "cell_type": "code",
   "execution_count": 2,
   "metadata": {
    "collapsed": true
   },
   "outputs": [],
   "source": [
    "import tensorflow as tf\n",
    "import numpy as np"
   ]
  },
  {
   "cell_type": "markdown",
   "metadata": {},
   "source": [
    "We put the points together"
   ]
  },
  {
   "cell_type": "code",
   "execution_count": 3,
   "metadata": {},
   "outputs": [],
   "source": [
    "X_data=np.array([[0,0],[1,0],[0,1],[1,1]])\n",
    "y_data=np.array([[1],[2],[2],[3]])"
   ]
  },
  {
   "cell_type": "markdown",
   "metadata": {},
   "source": [
    "we create our objects"
   ]
  },
  {
   "cell_type": "code",
   "execution_count": 4,
   "metadata": {},
   "outputs": [],
   "source": [
    "X=tf.placeholder(shape=(4,2),dtype=tf.float32,name='input')\n",
    "y=tf.placeholder(shape=(4,1),dtype=tf.float32,name='output')\n",
    "W=tf.Variable([[1],[1]],dtype=tf.float32,name='weights')\n",
    "b=tf.Variable([0],dtype=tf.float32,name='bias')"
   ]
  },
  {
   "cell_type": "markdown",
   "metadata": {},
   "source": [
    "We then create the graph"
   ]
  },
  {
   "cell_type": "code",
   "execution_count": 5,
   "metadata": {},
   "outputs": [],
   "source": [
    "line_approx=tf.matmul(X,W)+b"
   ]
  },
  {
   "cell_type": "markdown",
   "metadata": {},
   "source": [
    "we can create a loss function for our approximation"
   ]
  },
  {
   "cell_type": "code",
   "execution_count": 6,
   "metadata": {},
   "outputs": [],
   "source": [
    "loss=tf.reduce_sum(tf.square(line_approx-y,name='loss'))"
   ]
  },
  {
   "cell_type": "markdown",
   "metadata": {},
   "source": [
    "Finally, we use gradient descent for optimizing, tensorflow is great for this"
   ]
  },
  {
   "cell_type": "code",
   "execution_count": 7,
   "metadata": {
    "collapsed": true
   },
   "outputs": [],
   "source": [
    "optimizer = tf.train.AdamOptimizer(learning_rate=0.001).minimize(loss)"
   ]
  },
  {
   "cell_type": "markdown",
   "metadata": {},
   "source": [
    "Now, nothing has run yet, we need to create a session and run it to see how thinks change"
   ]
  },
  {
   "cell_type": "code",
   "execution_count": 8,
   "metadata": {
    "collapsed": true
   },
   "outputs": [],
   "source": [
    "sess=tf.Session()"
   ]
  },
  {
   "cell_type": "markdown",
   "metadata": {},
   "source": [
    "Variables need to be initialized"
   ]
  },
  {
   "cell_type": "code",
   "execution_count": 9,
   "metadata": {
    "collapsed": true
   },
   "outputs": [],
   "source": [
    "sess.run(tf.global_variables_initializer())"
   ]
  },
  {
   "cell_type": "code",
   "execution_count": 10,
   "metadata": {},
   "outputs": [
    {
     "name": "stdout",
     "output_type": "stream",
     "text": [
      "[[ 1.00100005]\n",
      " [ 1.00100005]]\n",
      "[[ 1.00199997]\n",
      " [ 1.00199997]]\n"
     ]
    }
   ],
   "source": [
    "for i in range(2): # run 100 epochs\n",
    "    sess.run(optimizer,feed_dict={X:X_data,y:y_data})\n",
    "    print(sess.run(W))"
   ]
  },
  {
   "cell_type": "markdown",
   "metadata": {},
   "source": [
    "as long as we don't close the session we can keep training."
   ]
  },
  {
   "cell_type": "code",
   "execution_count": 11,
   "metadata": {},
   "outputs": [
    {
     "name": "stdout",
     "output_type": "stream",
     "text": [
      "[[ 1.00299978]\n",
      " [ 1.00299978]]\n",
      "[[ 1.00399947]\n",
      " [ 1.00399947]]\n",
      "[[ 1.00499892]\n",
      " [ 1.00499892]]\n"
     ]
    }
   ],
   "source": [
    "for i in range(3): # run 100 epochs\n",
    "    sess.run(optimizer,feed_dict={X:X_data,y:y_data})\n",
    "    print(sess.run(W))"
   ]
  },
  {
   "cell_type": "code",
   "execution_count": 12,
   "metadata": {},
   "outputs": [],
   "source": [
    "Loss=[]\n",
    "for i in range(10000): # run 100 epochs\n",
    "    sess.run(optimizer,feed_dict={X:X_data,y:y_data})\n",
    "    Loss+=[sess.run(loss,feed_dict={X:X_data,y:y_data})]"
   ]
  },
  {
   "cell_type": "code",
   "execution_count": 13,
   "metadata": {},
   "outputs": [],
   "source": [
    "import matplotlib.pyplot as plt"
   ]
  },
  {
   "cell_type": "code",
   "execution_count": 16,
   "metadata": {},
   "outputs": [
    {
     "data": {
      "image/png": "[encoded data removed]",
      "text/plain": [
       "<matplotlib.figure.Figure at 0x7f18305a62e8>"
      ]
     },
     "metadata": {},
     "output_type": "display_data"
    }
   ],
   "source": [
    "plt.plot(Loss)\n",
    "plt.show()"
   ]
  },
  {
   "cell_type": "markdown",
   "metadata": {},
   "source": [
    "** Exercise: ** Follow the instruction to use tensorboard to visualize the graph.\n",
    "\n",
    "1. Create a new notebook.\n",
    "2. Assign names to all the objects.\n",
    "3. Use tf.name_score('Name_of_the_scope') to organize your graph\n",
    "4. Use tf.summary.scalar(loss) to save the loss values at each step\n",
    "5. You neet tf.sumary.merge_all()\n",
    "6. Display your graph"
   ]
  },
  {
   "cell_type": "code",
   "execution_count": null,
   "metadata": {
    "collapsed": true
   },
   "outputs": [],
   "source": []
  }
 ],
 "metadata": {
  "kernelspec": {
   "display_name": "Python [conda root]",
   "language": "python",
   "name": "conda-root-py"
  },
  "language_info": {
   "codemirror_mode": {
    "name": "ipython",
    "version": 3
   },
   "file_extension": ".py",
   "mimetype": "text/x-python",
   "name": "python",
   "nbconvert_exporter": "python",
   "pygments_lexer": "ipython3",
   "version": "3.5.2"
  }
 },
 "nbformat": 4,
 "nbformat_minor": 2
}
